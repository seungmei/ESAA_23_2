{
  "nbformat": 4,
  "nbformat_minor": 0,
  "metadata": {
    "colab": {
      "provenance": [],
      "include_colab_link": true
    },
    "kernelspec": {
      "name": "python3",
      "display_name": "Python 3"
    },
    "language_info": {
      "name": "python"
    }
  },
  "cells": [
    {
      "cell_type": "markdown",
      "metadata": {
        "id": "view-in-github",
        "colab_type": "text"
      },
      "source": [
        "<a href=\"https://colab.research.google.com/github/seungmei/ESAA_23_2/blob/main/5%EC%A3%BC%EC%B0%A8%EA%B8%88%EC%84%B8%EC%85%98.ipynb\" target=\"_parent\"><img src=\"https://colab.research.google.com/assets/colab-badge.svg\" alt=\"Open In Colab\"/></a>"
      ]
    },
    {
      "cell_type": "code",
      "metadata": {
        "id": "4Zqc4O_BfWqZ"
      },
      "source": [
        "# 모듈 및 데이터 로드\n",
        "from sklearn.datasets import load_breast_cancer\n",
        "from sklearn.linear_model import LogisticRegression\n",
        "\n",
        "data = load_breast_cancer()\n",
        "\n",
        "# x, y 데이터 생성\n",
        "X = data.data\n",
        "\n",
        "# 악성을 1, 양성을 0으로\n",
        "y = 1 - data.target\n",
        "\n",
        "# 특징으로 사용할 데이터를 평균으로 구분하는 10개 열로 축소\n",
        "X = X[:, :10]\n",
        "\n",
        "# 로지스틱 회귀 모델 생성\n",
        "model_lor = LogisticRegression(solver = 'lbfgs')\n",
        "model_lor.fit(X,y)\n",
        "y_pred = model_lor.predict(X)"
      ],
      "execution_count": null,
      "outputs": []
    },
    {
      "cell_type": "markdown",
      "metadata": {
        "id": "faoAfc1ZgAcq"
      },
      "source": [
        "* 오차 행렬(혼동 행렬) 생성"
      ]
    },
    {
      "cell_type": "code",
      "metadata": {
        "id": "JdML8YM0gBtu",
        "colab": {
          "base_uri": "https://localhost:8080/"
        },
        "outputId": "e68c095e-704c-4616-f99b-87a138c335a7"
      },
      "source": [
        "from sklearn.metrics import confusion_matrix\n",
        "\n",
        "confusion_matrix(y,y_pred)"
      ],
      "execution_count": null,
      "outputs": [
        {
          "output_type": "execute_result",
          "data": {
            "text/plain": [
              "array([[337,  20],\n",
              "       [ 30, 182]])"
            ]
          },
          "metadata": {},
          "execution_count": 23
        }
      ]
    },
    {
      "cell_type": "code",
      "source": [
        "from sklearn.metrics import accuracy_score, precision_score, recall_score, confusion_matrix"
      ],
      "metadata": {
        "id": "ziDXFkJoYdn3"
      },
      "execution_count": null,
      "outputs": []
    },
    {
      "cell_type": "markdown",
      "metadata": {
        "id": "xbcK3rT-gFRk"
      },
      "source": [
        "* 정확도"
      ]
    },
    {
      "cell_type": "code",
      "metadata": {
        "id": "NLiXFuYvgI1e",
        "colab": {
          "base_uri": "https://localhost:8080/"
        },
        "outputId": "3279ced6-5ce2-48c7-d4f9-46ddf5f4f874"
      },
      "source": [
        "\n",
        "accuracy = accuracy_score(y, y_pred)\n",
        "accuracy"
      ],
      "execution_count": null,
      "outputs": [
        {
          "output_type": "execute_result",
          "data": {
            "text/plain": [
              "0.9121265377855887"
            ]
          },
          "metadata": {},
          "execution_count": 24
        }
      ]
    },
    {
      "cell_type": "markdown",
      "metadata": {
        "id": "UYnVZS9igNNf"
      },
      "source": [
        "* 정밀도"
      ]
    },
    {
      "cell_type": "code",
      "metadata": {
        "id": "j108NueLgMKF",
        "colab": {
          "base_uri": "https://localhost:8080/"
        },
        "outputId": "cd013423-973a-4d31-f3b8-d19dfdf25f22"
      },
      "source": [
        "precision = precision_score(y,y_pred)\n",
        "precision"
      ],
      "execution_count": null,
      "outputs": [
        {
          "output_type": "execute_result",
          "data": {
            "text/plain": [
              "0.900990099009901"
            ]
          },
          "metadata": {},
          "execution_count": 25
        }
      ]
    },
    {
      "cell_type": "markdown",
      "metadata": {
        "id": "2-MBquNJZOM4"
      },
      "source": [
        "* 재현율"
      ]
    },
    {
      "cell_type": "code",
      "metadata": {
        "id": "uje4ivPvZPwv",
        "colab": {
          "base_uri": "https://localhost:8080/"
        },
        "outputId": "79185a5b-3807-46a8-f2fd-6f6677c1c214"
      },
      "source": [
        "recall = recall_score(y,y_pred)\n",
        "recall"
      ],
      "execution_count": null,
      "outputs": [
        {
          "output_type": "execute_result",
          "data": {
            "text/plain": [
              "0.8584905660377359"
            ]
          },
          "metadata": {},
          "execution_count": 26
        }
      ]
    },
    {
      "cell_type": "markdown",
      "metadata": {
        "id": "Cw1p3yjagUCH"
      },
      "source": [
        "* F1 score"
      ]
    },
    {
      "cell_type": "code",
      "metadata": {
        "id": "hPdtYdoDgYgV",
        "colab": {
          "base_uri": "https://localhost:8080/"
        },
        "outputId": "5cd45d39-f2ae-424a-ae20-40ff76cfe64f"
      },
      "source": [
        "from sklearn.metrics import f1_score\n",
        "f1 = f1_score(y,y_pred)\n",
        "f1"
      ],
      "execution_count": null,
      "outputs": [
        {
          "output_type": "execute_result",
          "data": {
            "text/plain": [
              "0.8792270531400966"
            ]
          },
          "metadata": {},
          "execution_count": 27
        }
      ]
    },
    {
      "cell_type": "markdown",
      "metadata": {
        "id": "fzwIFsKOW5a1"
      },
      "source": [
        "* 예측 확률(pred_proba) : 0으로 예측할 확률이 0.1보다 크면 y_pred2 에 넣는다 가정."
      ]
    },
    {
      "cell_type": "code",
      "metadata": {
        "id": "nw9dxOiPW40l",
        "colab": {
          "base_uri": "https://localhost:8080/"
        },
        "outputId": "789fd870-8bcf-45f8-fdfe-ebcf1d3be886"
      },
      "source": [
        "from sklearn.preprocessing import Binarizer\n",
        "pred_proba = model_lor.predict_proba(X)\n",
        "pred_proba.shape"
      ],
      "execution_count": null,
      "outputs": [
        {
          "output_type": "execute_result",
          "data": {
            "text/plain": [
              "(569, 2)"
            ]
          },
          "metadata": {},
          "execution_count": 30
        }
      ]
    },
    {
      "cell_type": "code",
      "source": [
        "model_lor.predict_proba(X)[:,1]"
      ],
      "metadata": {
        "colab": {
          "base_uri": "https://localhost:8080/"
        },
        "id": "h9Utu9wtcSaz",
        "outputId": "bd62b563-8b8c-4ee5-986a-e828aa9e84e4"
      },
      "execution_count": null,
      "outputs": [
        {
          "output_type": "execute_result",
          "data": {
            "text/plain": [
              "array([9.92326699e-01, 9.79683002e-01, 9.97653173e-01, 3.82208771e-01,\n",
              "       9.96147131e-01, 1.30889793e-01, 9.76003273e-01, 5.08769428e-01,\n",
              "       7.19957846e-01, 7.25876033e-01, 7.05477222e-01, 7.55650500e-01,\n",
              "       9.99960820e-01, 9.10827561e-01, 9.36193356e-01, 9.56793394e-01,\n",
              "       3.66015649e-01, 9.76490744e-01, 9.96014951e-01, 5.99471932e-02,\n",
              "       1.05954346e-01, 3.94500559e-04, 8.05550738e-01, 9.97164156e-01,\n",
              "       9.57721852e-01, 9.90024194e-01, 8.91050919e-01, 9.84507504e-01,\n",
              "       9.76125000e-01, 8.74109446e-01, 9.99204520e-01, 8.70592956e-02,\n",
              "       9.90214481e-01, 9.99212346e-01, 9.05212485e-01, 9.54885859e-01,\n",
              "       6.52465213e-01, 3.23053268e-02, 5.21491572e-01, 3.92387513e-01,\n",
              "       1.51246979e-01, 5.56892222e-02, 9.99643477e-01, 3.55158887e-01,\n",
              "       2.41535105e-01, 9.90593234e-01, 2.32990489e-04, 1.97290749e-01,\n",
              "       1.80340365e-02, 2.33480188e-01, 2.35925522e-02, 5.19364260e-02,\n",
              "       1.24515516e-02, 9.84193394e-01, 5.31884902e-01, 1.18412719e-02,\n",
              "       9.82511181e-01, 6.21809764e-01, 3.54905502e-02, 1.09513052e-04,\n",
              "       1.35366421e-03, 1.21614708e-03, 9.31190102e-01, 7.54016104e-04,\n",
              "       3.06775308e-01, 8.74470909e-01, 2.66055643e-03, 8.92609657e-03,\n",
              "       2.93373250e-03, 2.19362512e-02, 9.85357134e-01, 1.74596334e-03,\n",
              "       9.92290466e-01, 2.07971343e-01, 2.36207419e-02, 7.01872432e-01,\n",
              "       4.29702655e-02, 9.83766890e-01, 9.99999227e-01, 7.40029137e-02,\n",
              "       3.36395007e-02, 1.06438307e-01, 9.99999688e-01, 9.99802737e-01,\n",
              "       1.32808174e-02, 9.74632572e-01, 5.61978019e-01, 9.83099650e-01,\n",
              "       9.97662380e-02, 3.45423077e-01, 6.02009757e-01, 8.11134581e-01,\n",
              "       2.46103515e-02, 1.02755858e-01, 8.73358347e-01, 9.97542493e-01,\n",
              "       2.11378643e-02, 2.51467399e-03, 4.67973856e-03, 5.41811688e-01,\n",
              "       4.41080708e-01, 2.85547539e-05, 2.48081988e-02, 6.26526079e-03,\n",
              "       7.94854151e-03, 2.69971053e-01, 2.58505197e-02, 2.88029233e-02,\n",
              "       9.99993693e-01, 2.08947961e-02, 1.89070029e-03, 1.58262805e-01,\n",
              "       9.54209434e-01, 2.12923431e-02, 5.34913341e-04, 4.49025525e-02,\n",
              "       1.72381396e-03, 6.98134415e-01, 9.77879874e-01, 7.94898697e-01,\n",
              "       2.74103593e-03, 9.51585490e-01, 9.99999158e-01, 1.01644630e-01,\n",
              "       6.48668696e-02, 7.07964956e-02, 3.79580832e-01, 9.64764690e-01,\n",
              "       6.65591045e-01, 9.99103065e-01, 1.63895017e-02, 8.01990069e-01,\n",
              "       9.18984677e-01, 3.64391353e-01, 9.78325100e-01, 9.92842058e-02,\n",
              "       9.58135062e-03, 6.27244627e-03, 4.20563902e-01, 6.64523255e-03,\n",
              "       2.86159930e-04, 7.39108300e-01, 1.39252859e-02, 5.86966973e-02,\n",
              "       2.08228365e-03, 3.07267918e-02, 1.27935640e-01, 5.84615571e-01,\n",
              "       2.20575491e-01, 9.17704175e-02, 1.09888211e-01, 1.75556206e-03,\n",
              "       6.00973466e-03, 2.15047355e-03, 6.50308408e-02, 2.31932031e-02,\n",
              "       9.89722106e-01, 7.32854545e-01, 4.98529135e-03, 1.05654209e-03,\n",
              "       4.98564373e-02, 9.80510427e-01, 9.97721212e-01, 1.16165244e-01,\n",
              "       9.99659936e-01, 2.49368156e-01, 7.70831737e-04, 8.39365850e-01,\n",
              "       9.94199387e-01, 2.30273697e-01, 7.99683547e-03, 8.98802987e-02,\n",
              "       5.89164639e-01, 2.60244572e-03, 1.76234550e-03, 1.72375495e-04,\n",
              "       6.97104664e-03, 9.61857894e-01, 4.94562429e-02, 8.12918727e-03,\n",
              "       9.99998949e-01, 9.99984053e-01, 5.91683132e-01, 7.86131915e-03,\n",
              "       6.88845852e-01, 9.60539249e-04, 9.25320711e-01, 1.08219190e-02,\n",
              "       1.17049481e-02, 1.74087486e-02, 8.60059994e-01, 9.34457421e-02,\n",
              "       8.65266454e-04, 4.77185510e-01, 9.69650889e-01, 2.86437820e-02,\n",
              "       6.06433956e-01, 9.62665178e-01, 9.97948297e-01, 5.58995912e-01,\n",
              "       4.22644808e-02, 9.54566051e-01, 9.99998794e-01, 7.87584234e-01,\n",
              "       8.03109991e-02, 4.59729631e-01, 1.92255808e-03, 8.17275302e-01,\n",
              "       5.55902818e-01, 1.29194807e-01, 9.98088040e-01, 1.76184060e-02,\n",
              "       9.99998615e-01, 9.88946486e-01, 7.12442426e-01, 3.07392640e-01,\n",
              "       4.48657560e-02, 2.85411361e-03, 9.95377748e-01, 9.99422313e-01,\n",
              "       4.06863000e-02, 1.05000125e-01, 3.24328877e-03, 7.73965788e-01,\n",
              "       3.74093019e-02, 8.92446693e-02, 2.28203529e-03, 3.14773462e-01,\n",
              "       1.62336371e-01, 5.32530644e-01, 9.76618713e-01, 4.82043073e-02,\n",
              "       1.46802574e-01, 9.99366794e-01, 6.14550980e-04, 2.02822497e-01,\n",
              "       9.99968053e-01, 9.91550660e-01, 7.99315419e-01, 9.99045725e-01,\n",
              "       5.27351112e-02, 8.00091318e-03, 3.65268055e-02, 3.32059592e-01,\n",
              "       9.99043711e-01, 5.99925665e-03, 3.85316085e-02, 9.36211820e-02,\n",
              "       2.57794755e-02, 7.32149092e-03, 9.99700699e-01, 1.12268343e-02,\n",
              "       9.97686187e-01, 8.85344702e-01, 9.83432123e-01, 2.89923664e-01,\n",
              "       9.99966669e-01, 9.33484802e-01, 9.99317438e-01, 9.96744735e-01,\n",
              "       9.99064877e-01, 8.55559024e-01, 9.81663940e-01, 4.03090629e-01,\n",
              "       9.26697638e-01, 9.99635511e-01, 1.73706847e-02, 1.91378939e-01,\n",
              "       2.94140852e-02, 2.11241425e-02, 4.97179602e-02, 3.41846895e-03,\n",
              "       9.99949506e-01, 7.95011725e-04, 9.48045829e-01, 1.84878143e-02,\n",
              "       2.68580601e-03, 9.32222760e-01, 4.60700920e-02, 7.05380411e-02,\n",
              "       9.98592498e-01, 3.59887953e-03, 9.89594752e-01, 9.66989677e-01,\n",
              "       7.24422939e-02, 2.20430405e-02, 8.45913642e-02, 9.27848092e-03,\n",
              "       4.94707874e-02, 9.33597493e-03, 7.67128878e-01, 4.67290533e-01,\n",
              "       3.72917399e-02, 1.25438188e-02, 1.86081284e-02, 3.06133678e-02,\n",
              "       1.23591076e-03, 1.35364692e-02, 1.25531378e-01, 1.20501914e-02,\n",
              "       9.96272282e-01, 7.40864197e-02, 9.99762216e-01, 4.60526995e-03,\n",
              "       1.41944057e-02, 5.41975755e-02, 2.56032007e-02, 2.11501989e-04,\n",
              "       1.32373521e-02, 1.09144443e-02, 1.34686199e-02, 6.30842173e-02,\n",
              "       2.04127506e-02, 2.24497164e-03, 4.74421402e-04, 1.34982737e-02,\n",
              "       5.70265739e-03, 9.54550199e-01, 8.25463155e-03, 1.19955009e-02,\n",
              "       4.89387434e-03, 9.89763283e-01, 2.17170927e-02, 9.99625385e-01,\n",
              "       1.18132895e-02, 3.48365551e-02, 3.24510660e-02, 1.03431726e-02,\n",
              "       9.19656153e-01, 9.55844262e-01, 7.77136356e-01, 1.54854401e-01,\n",
              "       1.53295049e-02, 3.01813989e-03, 1.81275531e-02, 9.49275564e-01,\n",
              "       3.83021317e-02, 9.88540608e-01, 2.99106871e-03, 9.99934141e-01,\n",
              "       3.12002181e-01, 1.93553793e-03, 6.91446563e-03, 9.97752735e-01,\n",
              "       9.57916802e-03, 2.61024935e-03, 1.74898022e-02, 1.30316933e-01,\n",
              "       6.06495670e-03, 1.70635046e-02, 6.10834864e-03, 9.85132158e-01,\n",
              "       9.99997821e-01, 8.34066598e-01, 3.47648869e-03, 1.10967442e-01,\n",
              "       1.67323954e-01, 5.54638318e-02, 5.51734162e-04, 1.23347024e-03,\n",
              "       1.70994305e-02, 1.36608826e-01, 5.36734728e-02, 6.80411316e-01,\n",
              "       4.38827955e-02, 9.97161708e-01, 9.99673061e-01, 2.68746006e-02,\n",
              "       9.91438714e-01, 9.99921552e-01, 9.82904853e-01, 1.30542128e-01,\n",
              "       9.98153030e-01, 9.92137864e-01, 6.35280623e-02, 7.79177586e-01,\n",
              "       5.74019060e-02, 3.72013888e-01, 7.38202475e-02, 6.48563327e-02,\n",
              "       7.27544987e-03, 4.19680497e-03, 1.49047809e-01, 6.30618304e-02,\n",
              "       3.98831802e-02, 4.98342961e-01, 1.51842053e-02, 4.81480380e-02,\n",
              "       1.39101310e-02, 9.98066312e-01, 1.10209268e-03, 4.29878540e-04,\n",
              "       8.77823166e-01, 9.99908350e-01, 3.23481870e-02, 8.30878411e-02,\n",
              "       2.38094487e-01, 7.27145868e-02, 2.83384529e-03, 1.16478263e-02,\n",
              "       9.99789521e-01, 3.14022642e-03, 9.80747474e-02, 3.99087208e-02,\n",
              "       8.54754510e-03, 1.07138301e-02, 4.26234085e-01, 1.06975250e-01,\n",
              "       9.76114264e-01, 2.30965490e-02, 8.36807571e-03, 7.47827315e-03,\n",
              "       2.85569287e-03, 6.81203470e-01, 8.05800659e-01, 4.38887323e-02,\n",
              "       2.66471465e-03, 9.02103547e-01, 7.75519938e-03, 1.40365020e-02,\n",
              "       1.93930481e-02, 6.26015594e-01, 2.08018949e-02, 3.21888019e-01,\n",
              "       2.42742889e-03, 3.20970978e-03, 3.43229039e-03, 1.28871705e-02,\n",
              "       3.75908564e-03, 2.49146778e-02, 9.87534896e-01, 1.03281010e-01,\n",
              "       9.98460071e-01, 9.93038142e-01, 1.54050304e-01, 3.66663265e-01,\n",
              "       7.08337112e-02, 6.98867087e-02, 1.30510355e-01, 6.06553930e-02,\n",
              "       1.77105391e-02, 9.72932594e-01, 5.98916003e-02, 3.36047260e-03,\n",
              "       9.23673562e-01, 1.49865796e-01, 9.96986210e-01, 3.24785267e-01,\n",
              "       3.69243339e-01, 9.97926637e-01, 6.75240808e-02, 9.96503886e-01,\n",
              "       1.66083319e-01, 1.32272226e-01, 2.55125778e-02, 6.51255675e-01,\n",
              "       2.05277119e-01, 1.87400620e-01, 1.42626067e-01, 1.38567274e-02,\n",
              "       9.77095387e-01, 9.99999913e-01, 5.69462099e-01, 1.16346236e-02,\n",
              "       5.65357706e-02, 2.95444962e-01, 2.73092763e-01, 1.26719761e-03,\n",
              "       9.98197134e-01, 6.05795823e-02, 1.92547451e-03, 1.50877481e-01,\n",
              "       2.02844858e-01, 1.49754730e-01, 7.13109716e-03, 4.18787626e-02,\n",
              "       4.12566942e-01, 7.21966416e-02, 7.98219213e-03, 9.84501296e-01,\n",
              "       2.97173237e-02, 1.07649145e-01, 6.80542904e-02, 8.86430224e-02,\n",
              "       3.62997305e-01, 1.64496196e-01, 1.81312606e-01, 9.94281732e-01,\n",
              "       1.62034877e-02, 7.00788709e-01, 5.29686402e-02, 5.44494636e-01,\n",
              "       9.80776826e-01, 4.99737822e-03, 7.97175341e-02, 4.52212084e-01,\n",
              "       1.15560480e-01, 3.75911718e-02, 9.71224414e-01, 9.99643098e-01,\n",
              "       5.52815362e-01, 8.66500674e-01, 4.55978323e-02, 9.99675796e-01,\n",
              "       2.53430157e-03, 4.06796247e-03, 9.11590899e-02, 1.02478353e-02,\n",
              "       4.03614864e-01, 9.80161540e-01, 1.57913850e-02, 9.44972362e-02,\n",
              "       4.98067306e-01, 1.31413536e-01, 4.22412516e-01, 1.47210883e-02,\n",
              "       9.88656381e-01, 9.95518855e-01, 1.68595720e-01, 5.53699973e-02,\n",
              "       9.01879818e-04, 9.99994372e-01, 8.78180582e-03, 1.84237646e-01,\n",
              "       1.50305650e-03, 1.97127441e-04, 1.79672424e-01, 7.26031337e-03,\n",
              "       8.55589990e-02, 1.13532033e-02, 2.32699349e-02, 3.30352419e-02,\n",
              "       6.57259068e-02, 9.97976548e-01, 1.09043330e-02, 9.99676671e-01,\n",
              "       7.10215632e-01, 1.71741964e-01, 6.27893079e-04, 1.08863951e-03,\n",
              "       1.06621092e-02, 8.77447674e-01, 6.15584525e-01, 4.18938678e-01,\n",
              "       2.83465192e-01, 2.22134439e-01, 1.72068895e-03, 3.22629750e-03,\n",
              "       1.61332661e-03, 2.05367555e-02, 7.45144710e-03, 2.94821570e-02,\n",
              "       2.82850972e-01, 2.43039002e-03, 3.57433396e-01, 3.18077768e-02,\n",
              "       4.13103617e-03, 7.65406922e-03, 8.10538985e-01, 8.66825647e-02,\n",
              "       7.31573356e-01, 5.47718691e-02, 9.97473451e-01, 9.99986751e-01,\n",
              "       9.99457381e-01, 9.98863446e-01, 9.76474492e-01, 9.99991863e-01,\n",
              "       4.26987052e-04])"
            ]
          },
          "metadata": {},
          "execution_count": 43
        }
      ]
    },
    {
      "cell_type": "code",
      "source": [
        "import numpy as np\n",
        "\n",
        "# 0으로 예측할 확률이 0.1보다 크면 y_pred2 에 넣는다.\n",
        "y_pred2 = (model_lor.predict_proba(X)[:,1]>0.1).astype(np.int)\n",
        "y_pred2"
      ],
      "metadata": {
        "colab": {
          "base_uri": "https://localhost:8080/"
        },
        "id": "X2CGAACDbL7s",
        "outputId": "1c839e6f-0805-4f74-ce39-e7f446d259a3"
      },
      "execution_count": null,
      "outputs": [
        {
          "output_type": "stream",
          "name": "stderr",
          "text": [
            "<ipython-input-31-7ab98f4bb690>:4: DeprecationWarning: `np.int` is a deprecated alias for the builtin `int`. To silence this warning, use `int` by itself. Doing this will not modify any behavior and is safe. When replacing `np.int`, you may wish to use e.g. `np.int64` or `np.int32` to specify the precision. If you wish to review your current use, check the release note link for additional information.\n",
            "Deprecated in NumPy 1.20; for more details and guidance: https://numpy.org/devdocs/release/1.20.0-notes.html#deprecations\n",
            "  y_pred2 = (model_lor.predict_proba(X)[:,1]>0.1).astype(np.int)\n"
          ]
        },
        {
          "output_type": "execute_result",
          "data": {
            "text/plain": [
              "array([1, 1, 1, 1, 1, 1, 1, 1, 1, 1, 1, 1, 1, 1, 1, 1, 1, 1, 1, 0, 1, 0,\n",
              "       1, 1, 1, 1, 1, 1, 1, 1, 1, 0, 1, 1, 1, 1, 1, 0, 1, 1, 1, 0, 1, 1,\n",
              "       1, 1, 0, 1, 0, 1, 0, 0, 0, 1, 1, 0, 1, 1, 0, 0, 0, 0, 1, 0, 1, 1,\n",
              "       0, 0, 0, 0, 1, 0, 1, 1, 0, 1, 0, 1, 1, 0, 0, 1, 1, 1, 0, 1, 1, 1,\n",
              "       0, 1, 1, 1, 0, 1, 1, 1, 0, 0, 0, 1, 1, 0, 0, 0, 0, 1, 0, 0, 1, 0,\n",
              "       0, 1, 1, 0, 0, 0, 0, 1, 1, 1, 0, 1, 1, 1, 0, 0, 1, 1, 1, 1, 0, 1,\n",
              "       1, 1, 1, 0, 0, 0, 1, 0, 0, 1, 0, 0, 0, 0, 1, 1, 1, 0, 1, 0, 0, 0,\n",
              "       0, 0, 1, 1, 0, 0, 0, 1, 1, 1, 1, 1, 0, 1, 1, 1, 0, 0, 1, 0, 0, 0,\n",
              "       0, 1, 0, 0, 1, 1, 1, 0, 1, 0, 1, 0, 0, 0, 1, 0, 0, 1, 1, 0, 1, 1,\n",
              "       1, 1, 0, 1, 1, 1, 0, 1, 0, 1, 1, 1, 1, 0, 1, 1, 1, 1, 0, 0, 1, 1,\n",
              "       0, 1, 0, 1, 0, 0, 0, 1, 1, 1, 1, 0, 1, 1, 0, 1, 1, 1, 1, 1, 0, 0,\n",
              "       0, 1, 1, 0, 0, 0, 0, 0, 1, 0, 1, 1, 1, 1, 1, 1, 1, 1, 1, 1, 1, 1,\n",
              "       1, 1, 0, 1, 0, 0, 0, 0, 1, 0, 1, 0, 0, 1, 0, 0, 1, 0, 1, 1, 0, 0,\n",
              "       0, 0, 0, 0, 1, 1, 0, 0, 0, 0, 0, 0, 1, 0, 1, 0, 1, 0, 0, 0, 0, 0,\n",
              "       0, 0, 0, 0, 0, 0, 0, 0, 0, 1, 0, 0, 0, 1, 0, 1, 0, 0, 0, 0, 1, 1,\n",
              "       1, 1, 0, 0, 0, 1, 0, 1, 0, 1, 1, 0, 0, 1, 0, 0, 0, 1, 0, 0, 0, 1,\n",
              "       1, 1, 0, 1, 1, 0, 0, 0, 0, 1, 0, 1, 0, 1, 1, 0, 1, 1, 1, 1, 1, 1,\n",
              "       0, 1, 0, 1, 0, 0, 0, 0, 1, 0, 0, 1, 0, 0, 0, 1, 0, 0, 1, 1, 0, 0,\n",
              "       1, 0, 0, 0, 1, 0, 0, 0, 0, 0, 1, 1, 1, 0, 0, 0, 0, 1, 1, 0, 0, 1,\n",
              "       0, 0, 0, 1, 0, 1, 0, 0, 0, 0, 0, 0, 1, 1, 1, 1, 1, 1, 0, 0, 1, 0,\n",
              "       0, 1, 0, 0, 1, 1, 1, 1, 1, 1, 0, 1, 1, 1, 0, 1, 1, 1, 1, 0, 1, 1,\n",
              "       1, 0, 0, 1, 1, 0, 1, 0, 0, 1, 1, 1, 0, 0, 1, 0, 0, 1, 0, 1, 0, 0,\n",
              "       1, 1, 1, 1, 0, 1, 0, 1, 1, 0, 0, 1, 1, 0, 1, 1, 1, 1, 0, 1, 0, 0,\n",
              "       0, 0, 1, 1, 0, 0, 1, 1, 1, 0, 1, 1, 1, 0, 0, 1, 0, 1, 0, 0, 1, 0,\n",
              "       0, 0, 0, 0, 0, 1, 0, 1, 1, 1, 0, 0, 0, 1, 1, 1, 1, 1, 0, 0, 0, 0,\n",
              "       0, 0, 1, 0, 1, 0, 0, 0, 1, 0, 1, 0, 1, 1, 1, 1, 1, 1, 0])"
            ]
          },
          "metadata": {},
          "execution_count": 31
        }
      ]
    },
    {
      "cell_type": "code",
      "metadata": {
        "id": "Y-WrHrICYFB1",
        "colab": {
          "base_uri": "https://localhost:8080/"
        },
        "outputId": "f553a134-76cb-4a2d-f373-b5c2eeadd0f9"
      },
      "source": [
        "# y과 y_pred2의 혼동행렬, 정확도, 정밀도, 재현율, f1 score 구하기\n",
        "print(confusion_matrix(y,y_pred2))\n",
        "print(accuracy_score(y, y_pred2))\n",
        "print(precision_score(y,y_pred2))\n",
        "print(recall_score(y,y_pred2))\n",
        "print(f1_score(y, y_pred2))"
      ],
      "execution_count": null,
      "outputs": [
        {
          "output_type": "stream",
          "name": "stdout",
          "text": [
            "[[267  90]\n",
            " [  6 206]]\n",
            "0.8312829525483304\n",
            "0.6959459459459459\n",
            "0.9716981132075472\n",
            "0.8110236220472441\n"
          ]
        }
      ]
    },
    {
      "cell_type": "markdown",
      "metadata": {
        "id": "itgf_OjsjU-R"
      },
      "source": [
        "* ROC 곡선 시각화"
      ]
    },
    {
      "cell_type": "code",
      "metadata": {
        "id": "DW75xBokjXKy"
      },
      "source": [
        "from sklearn.metrics import roc_curve\n",
        "probas = model_lor.predict_proba(X)\n",
        "fpr, tpr, thresholds = roc_curve(y, probas[:,1])"
      ],
      "execution_count": null,
      "outputs": []
    },
    {
      "cell_type": "code",
      "metadata": {
        "id": "CSJ69SGJVh7m",
        "colab": {
          "base_uri": "https://localhost:8080/",
          "height": 494
        },
        "outputId": "71eb9138-b5e6-4c51-fcff-fc8781f2431f"
      },
      "source": [
        "import matplotlib.pyplot as plt\n",
        "%matplotlib inline\n",
        "plt.style.use('fivethirtyeight')\n",
        "fig, ax = plt.subplots()\n",
        "fig.set_size_inches(4.8, 5)\n",
        "ax.step(fpr, tpr, 'gray')\n",
        "ax.fill_between(fpr, tpr, 0, color='skyblue', alpha=0.8)\n",
        "ax.set_xlabel('False Positive Rate')\n",
        "ax.set_ylabel('True Positive Rate')\n",
        "ax.set_facecolor('xkcd:white')\n",
        "plt.show()"
      ],
      "execution_count": null,
      "outputs": [
        {
          "output_type": "display_data",
          "data": {
            "text/plain": [
              "<Figure size 480x500 with 1 Axes>"
            ],
            "image/png": "[encoded data removed]"
          },
          "metadata": {}
        }
      ]
    },
    {
      "cell_type": "markdown",
      "metadata": {
        "id": "fL4as0YsWYD7"
      },
      "source": [
        "* ROC AUC 값"
      ]
    },
    {
      "cell_type": "code",
      "metadata": {
        "id": "-SEElVZTWaVp",
        "colab": {
          "base_uri": "https://localhost:8080/"
        },
        "outputId": "05c825c9-1539-407d-c96c-f331d690fd5e"
      },
      "source": [
        "from sklearn.metrics import roc_auc_score\n",
        "\n",
        "roc_score = roc_auc_score(y, probas[:,1])\n",
        "print('ROC AUC 값 : {:.4f}'.format(roc_score))"
      ],
      "execution_count": null,
      "outputs": [
        {
          "output_type": "stream",
          "name": "stdout",
          "text": [
            "ROC AUC 값 : 0.9741\n"
          ]
        }
      ]
    }
  ]
}